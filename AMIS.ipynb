{
 "cells": [
  {
   "cell_type": "code",
   "execution_count": 1,
   "metadata": {},
   "outputs": [
    {
     "data": {
      "text/plain": [
       "'C:\\\\Users\\\\Ezinne\\\\Desktop\\\\AMIS'"
      ]
     },
     "execution_count": 1,
     "metadata": {},
     "output_type": "execute_result"
    }
   ],
   "source": [
    "import os\n",
    "os.chdir(\"C:/Users/Ezinne/Desktop/AMIS\")\n",
    "os.getcwd()"
   ]
  },
  {
   "cell_type": "code",
   "execution_count": 2,
   "metadata": {},
   "outputs": [],
   "source": [
    "import pandas as pd\n",
    "import matplotlib.pyplot as plt\n",
    "import seaborn as sns\n",
    "import numpy as np\n",
    "\n",
    "%matplotlib inline\n",
    "sns.set(color_codes = True)"
   ]
  },
  {
   "cell_type": "code",
   "execution_count": 3,
   "metadata": {},
   "outputs": [
    {
     "data": {
      "text/plain": [
       "(8437, 5)"
      ]
     },
     "execution_count": 3,
     "metadata": {},
     "output_type": "execute_result"
    }
   ],
   "source": [
    "amis = pd.read_csv('amis.csv') ##Read the amis data\n",
    "amis.shape"
   ]
  },
  {
   "cell_type": "code",
   "execution_count": 4,
   "metadata": {},
   "outputs": [
    {
     "data": {
      "text/html": [
       "<div>\n",
       "<style scoped>\n",
       "    .dataframe tbody tr th:only-of-type {\n",
       "        vertical-align: middle;\n",
       "    }\n",
       "\n",
       "    .dataframe tbody tr th {\n",
       "        vertical-align: top;\n",
       "    }\n",
       "\n",
       "    .dataframe thead th {\n",
       "        text-align: right;\n",
       "    }\n",
       "</style>\n",
       "<table border=\"1\" class=\"dataframe\">\n",
       "  <thead>\n",
       "    <tr style=\"text-align: right;\">\n",
       "      <th></th>\n",
       "      <th>Unnamed: 0</th>\n",
       "      <th>speed</th>\n",
       "      <th>period</th>\n",
       "      <th>warning</th>\n",
       "      <th>pair</th>\n",
       "    </tr>\n",
       "  </thead>\n",
       "  <tbody>\n",
       "    <tr>\n",
       "      <th>0</th>\n",
       "      <td>1</td>\n",
       "      <td>26</td>\n",
       "      <td>1</td>\n",
       "      <td>1</td>\n",
       "      <td>1</td>\n",
       "    </tr>\n",
       "    <tr>\n",
       "      <th>1</th>\n",
       "      <td>2</td>\n",
       "      <td>26</td>\n",
       "      <td>1</td>\n",
       "      <td>1</td>\n",
       "      <td>1</td>\n",
       "    </tr>\n",
       "    <tr>\n",
       "      <th>2</th>\n",
       "      <td>3</td>\n",
       "      <td>26</td>\n",
       "      <td>1</td>\n",
       "      <td>1</td>\n",
       "      <td>1</td>\n",
       "    </tr>\n",
       "  </tbody>\n",
       "</table>\n",
       "</div>"
      ],
      "text/plain": [
       "   Unnamed: 0  speed  period  warning  pair\n",
       "0           1     26       1        1     1\n",
       "1           2     26       1        1     1\n",
       "2           3     26       1        1     1"
      ]
     },
     "execution_count": 4,
     "metadata": {},
     "output_type": "execute_result"
    }
   ],
   "source": [
    "amis.head(3)"
   ]
  },
  {
   "cell_type": "code",
   "execution_count": 5,
   "metadata": {},
   "outputs": [
    {
     "data": {
      "text/html": [
       "<div>\n",
       "<style scoped>\n",
       "    .dataframe tbody tr th:only-of-type {\n",
       "        vertical-align: middle;\n",
       "    }\n",
       "\n",
       "    .dataframe tbody tr th {\n",
       "        vertical-align: top;\n",
       "    }\n",
       "\n",
       "    .dataframe thead th {\n",
       "        text-align: right;\n",
       "    }\n",
       "</style>\n",
       "<table border=\"1\" class=\"dataframe\">\n",
       "  <thead>\n",
       "    <tr style=\"text-align: right;\">\n",
       "      <th></th>\n",
       "      <th>Unnamed: 0</th>\n",
       "      <th>speed</th>\n",
       "      <th>period</th>\n",
       "      <th>warning</th>\n",
       "      <th>pair</th>\n",
       "    </tr>\n",
       "  </thead>\n",
       "  <tbody>\n",
       "    <tr>\n",
       "      <th>count</th>\n",
       "      <td>8437.000000</td>\n",
       "      <td>8437.000000</td>\n",
       "      <td>8437.000000</td>\n",
       "      <td>8437.000000</td>\n",
       "      <td>8437.000000</td>\n",
       "    </tr>\n",
       "    <tr>\n",
       "      <th>mean</th>\n",
       "      <td>4219.000000</td>\n",
       "      <td>37.824227</td>\n",
       "      <td>2.004385</td>\n",
       "      <td>1.506697</td>\n",
       "      <td>7.558848</td>\n",
       "    </tr>\n",
       "    <tr>\n",
       "      <th>std</th>\n",
       "      <td>2435.696444</td>\n",
       "      <td>6.507540</td>\n",
       "      <td>0.817428</td>\n",
       "      <td>0.499985</td>\n",
       "      <td>4.030791</td>\n",
       "    </tr>\n",
       "    <tr>\n",
       "      <th>min</th>\n",
       "      <td>1.000000</td>\n",
       "      <td>19.000000</td>\n",
       "      <td>1.000000</td>\n",
       "      <td>1.000000</td>\n",
       "      <td>1.000000</td>\n",
       "    </tr>\n",
       "    <tr>\n",
       "      <th>25%</th>\n",
       "      <td>2110.000000</td>\n",
       "      <td>33.000000</td>\n",
       "      <td>1.000000</td>\n",
       "      <td>1.000000</td>\n",
       "      <td>4.000000</td>\n",
       "    </tr>\n",
       "    <tr>\n",
       "      <th>50%</th>\n",
       "      <td>4219.000000</td>\n",
       "      <td>37.000000</td>\n",
       "      <td>2.000000</td>\n",
       "      <td>2.000000</td>\n",
       "      <td>8.000000</td>\n",
       "    </tr>\n",
       "    <tr>\n",
       "      <th>75%</th>\n",
       "      <td>6328.000000</td>\n",
       "      <td>42.000000</td>\n",
       "      <td>3.000000</td>\n",
       "      <td>2.000000</td>\n",
       "      <td>11.000000</td>\n",
       "    </tr>\n",
       "    <tr>\n",
       "      <th>max</th>\n",
       "      <td>8437.000000</td>\n",
       "      <td>67.000000</td>\n",
       "      <td>3.000000</td>\n",
       "      <td>2.000000</td>\n",
       "      <td>14.000000</td>\n",
       "    </tr>\n",
       "  </tbody>\n",
       "</table>\n",
       "</div>"
      ],
      "text/plain": [
       "        Unnamed: 0        speed       period      warning         pair\n",
       "count  8437.000000  8437.000000  8437.000000  8437.000000  8437.000000\n",
       "mean   4219.000000    37.824227     2.004385     1.506697     7.558848\n",
       "std    2435.696444     6.507540     0.817428     0.499985     4.030791\n",
       "min       1.000000    19.000000     1.000000     1.000000     1.000000\n",
       "25%    2110.000000    33.000000     1.000000     1.000000     4.000000\n",
       "50%    4219.000000    37.000000     2.000000     2.000000     8.000000\n",
       "75%    6328.000000    42.000000     3.000000     2.000000    11.000000\n",
       "max    8437.000000    67.000000     3.000000     2.000000    14.000000"
      ]
     },
     "execution_count": 5,
     "metadata": {},
     "output_type": "execute_result"
    }
   ],
   "source": [
    "amis.describe()"
   ]
  },
  {
   "cell_type": "code",
   "execution_count": 6,
   "metadata": {},
   "outputs": [
    {
     "data": {
      "text/plain": [
       "<bound method DataFrame.info of       Unnamed: 0  speed  period  warning  pair\n",
       "0              1     26       1        1     1\n",
       "1              2     26       1        1     1\n",
       "2              3     26       1        1     1\n",
       "3              4     26       1        1     1\n",
       "4              5     27       1        1     1\n",
       "...          ...    ...     ...      ...   ...\n",
       "8432        8433     42       3        2    14\n",
       "8433        8434     46       3        2    14\n",
       "8434        8435     47       3        2    14\n",
       "8435        8436     48       3        2    14\n",
       "8436        8437     47       3        2    14\n",
       "\n",
       "[8437 rows x 5 columns]>"
      ]
     },
     "execution_count": 6,
     "metadata": {},
     "output_type": "execute_result"
    }
   ],
   "source": [
    "amis.info"
   ]
  },
  {
   "cell_type": "code",
   "execution_count": 7,
   "metadata": {},
   "outputs": [],
   "source": [
    "### Convert the period, warning, and pair columns to categorical, R's equivalent of a factor\n",
    "amis['period'] = amis['period'].astype('category')\n",
    "amis['warning'] = amis['warning'].astype('category')\n",
    "amis['pair'] = amis['pair'].astype('category')"
   ]
  },
  {
   "cell_type": "code",
   "execution_count": 8,
   "metadata": {},
   "outputs": [
    {
     "data": {
      "text/plain": [
       "Unnamed: 0       int64\n",
       "speed            int64\n",
       "period        category\n",
       "warning       category\n",
       "pair          category\n",
       "dtype: object"
      ]
     },
     "execution_count": 8,
     "metadata": {},
     "output_type": "execute_result"
    }
   ],
   "source": [
    "amis.dtypes"
   ]
  },
  {
   "cell_type": "code",
   "execution_count": 9,
   "metadata": {},
   "outputs": [
    {
     "data": {
      "text/html": [
       "<div>\n",
       "<style scoped>\n",
       "    .dataframe tbody tr th:only-of-type {\n",
       "        vertical-align: middle;\n",
       "    }\n",
       "\n",
       "    .dataframe tbody tr th {\n",
       "        vertical-align: top;\n",
       "    }\n",
       "\n",
       "    .dataframe thead th {\n",
       "        text-align: right;\n",
       "    }\n",
       "</style>\n",
       "<table border=\"1\" class=\"dataframe\">\n",
       "  <thead>\n",
       "    <tr style=\"text-align: right;\">\n",
       "      <th></th>\n",
       "      <th>speed</th>\n",
       "      <th>period</th>\n",
       "      <th>warning</th>\n",
       "      <th>pair</th>\n",
       "    </tr>\n",
       "  </thead>\n",
       "  <tbody>\n",
       "    <tr>\n",
       "      <th>0</th>\n",
       "      <td>26</td>\n",
       "      <td>1</td>\n",
       "      <td>1</td>\n",
       "      <td>1</td>\n",
       "    </tr>\n",
       "    <tr>\n",
       "      <th>1</th>\n",
       "      <td>26</td>\n",
       "      <td>1</td>\n",
       "      <td>1</td>\n",
       "      <td>1</td>\n",
       "    </tr>\n",
       "    <tr>\n",
       "      <th>2</th>\n",
       "      <td>26</td>\n",
       "      <td>1</td>\n",
       "      <td>1</td>\n",
       "      <td>1</td>\n",
       "    </tr>\n",
       "  </tbody>\n",
       "</table>\n",
       "</div>"
      ],
      "text/plain": [
       "   speed period warning pair\n",
       "0     26      1       1    1\n",
       "1     26      1       1    1\n",
       "2     26      1       1    1"
      ]
     },
     "execution_count": 9,
     "metadata": {},
     "output_type": "execute_result"
    }
   ],
   "source": [
    "##Drop Irrelevant columns\n",
    "amis = amis.drop(['Unnamed: 0'], axis = 1)\n",
    "\n",
    "amis.head(3)"
   ]
  },
  {
   "cell_type": "code",
   "execution_count": 10,
   "metadata": {},
   "outputs": [
    {
     "data": {
      "text/plain": [
       "speed      8437\n",
       "period     8437\n",
       "warning    8437\n",
       "pair       8437\n",
       "dtype: int64"
      ]
     },
     "execution_count": 10,
     "metadata": {},
     "output_type": "execute_result"
    }
   ],
   "source": [
    "amis.count()"
   ]
  },
  {
   "cell_type": "code",
   "execution_count": 11,
   "metadata": {},
   "outputs": [
    {
     "name": "stdout",
     "output_type": "stream",
     "text": [
      "number of duplicate rows:  (6542, 4)\n"
     ]
    }
   ],
   "source": [
    "#Check for duplicates\n",
    "duplicates = amis[amis.duplicated()]\n",
    "print(\"number of duplicate rows: \", duplicates.shape)"
   ]
  },
  {
   "cell_type": "code",
   "execution_count": 12,
   "metadata": {},
   "outputs": [
    {
     "name": "stdout",
     "output_type": "stream",
     "text": [
      "speed      0\n",
      "period     0\n",
      "warning    0\n",
      "pair       0\n",
      "dtype: int64\n"
     ]
    }
   ],
   "source": [
    "##Check for missing or null values\n",
    "print(amis.isnull().sum())"
   ]
  },
  {
   "cell_type": "code",
   "execution_count": 13,
   "metadata": {},
   "outputs": [
    {
     "data": {
      "text/plain": [
       "<matplotlib.axes._subplots.AxesSubplot at 0x5f521f5dd8>"
      ]
     },
     "execution_count": 13,
     "metadata": {},
     "output_type": "execute_result"
    },
    {
     "data": {
      "image/png": "[encoded data removed]",
      "text/plain": [
       "<Figure size 432x288 with 1 Axes>"
      ]
     },
     "metadata": {},
     "output_type": "display_data"
    }
   ],
   "source": [
    "#Check for outliers in the data\n",
    "sns.boxplot(amis['speed'])"
   ]
  },
  {
   "cell_type": "code",
   "execution_count": 14,
   "metadata": {},
   "outputs": [
    {
     "data": {
      "text/plain": [
       "9.0"
      ]
     },
     "execution_count": 14,
     "metadata": {},
     "output_type": "execute_result"
    }
   ],
   "source": [
    "## For record purposes\n",
    "##One useful way of detecting outliers for possible removal is the IQR score technique\n",
    "\n",
    "Q1 = amis['speed'].quantile(0.25)\n",
    "Q3 = amis['speed'].quantile(0.75)\n",
    "IQR = Q3 - Q1\n",
    "IQR"
   ]
  },
  {
   "cell_type": "code",
   "execution_count": 21,
   "metadata": {},
   "outputs": [],
   "source": [
    "##To check the number of rows that contain outliers and remove them\n",
    "#amis = amis[~ ((amis['speed'] < (Q1 - 1.5 * IQR)) | (amis['speed'] > (Q3 + 1.5 * IQR))).any()]\n",
    "#amis.shape\n"
   ]
  },
  {
   "cell_type": "code",
   "execution_count": 15,
   "metadata": {},
   "outputs": [
    {
     "name": "stdout",
     "output_type": "stream",
     "text": [
      "count    8437.000000\n",
      "mean       37.824227\n",
      "std         6.507540\n",
      "min        19.000000\n",
      "25%        33.000000\n",
      "50%        37.000000\n",
      "75%        42.000000\n",
      "max        67.000000\n",
      "Name: speed, dtype: float64\n"
     ]
    },
    {
     "data": {
      "text/plain": [
       "Text(0.5, 1.0, 'Disribution of car speed')"
      ]
     },
     "execution_count": 15,
     "metadata": {},
     "output_type": "execute_result"
    },
    {
     "data": {
      "image/png": "[encoded data removed]",
      "text/plain": [
       "<Figure size 648x576 with 1 Axes>"
      ]
     },
     "metadata": {},
     "output_type": "display_data"
    }
   ],
   "source": [
    "##Plot a Histogram\n",
    "print(amis['speed'].describe())\n",
    "\n",
    "plt.figure(figsize = (9, 8))\n",
    "sns.distplot(amis['speed'], color = \"blue\", bins = 50, hist_kws = {\"alpha\" : 0.8})\n",
    "plt.xlabel(\"Speed\")\n",
    "plt.title(\"Disribution of car speed\")"
   ]
  },
  {
   "cell_type": "code",
   "execution_count": 16,
   "metadata": {},
   "outputs": [
    {
     "data": {
      "image/png": "[encoded data removed]",
      "text/plain": [
       "<Figure size 576x576 with 1 Axes>"
      ]
     },
     "metadata": {},
     "output_type": "display_data"
    }
   ],
   "source": [
    "##Plot a scatter plot\n",
    "fig, ax = plt.subplots(figsize = (8, 8))\n",
    "ax.scatter(amis['pair'], amis['speed'])\n",
    "ax.set_xlabel(\"Pair\")\n",
    "ax.set_ylabel(\"Speed\")\n",
    "plt.show()"
   ]
  },
  {
   "cell_type": "code",
   "execution_count": 17,
   "metadata": {},
   "outputs": [
    {
     "data": {
      "text/plain": [
       "(array([ 0,  1,  2,  3,  4,  5,  6,  7,  8,  9, 10, 11, 12, 13]),\n",
       " <a list of 14 Text xticklabel objects>)"
      ]
     },
     "execution_count": 17,
     "metadata": {},
     "output_type": "execute_result"
    },
    {
     "data": {
      "image/png": "[encoded data removed]",
      "text/plain": [
       "<Figure size 720x720 with 1 Axes>"
      ]
     },
     "metadata": {},
     "output_type": "display_data"
    }
   ],
   "source": [
    "##Better still make boxplots of the last plot\n",
    "plt.figure(figsize = (10, 10))\n",
    "ax = sns.boxplot(x = \"pair\", y = \"speed\", data = amis)\n",
    "plt.setp(ax.artists, alpha = 0.5, linewidth = 2, edgecolor = 'k')\n",
    "plt.xticks(rotation = 90)"
   ]
  },
  {
   "cell_type": "code",
   "execution_count": 18,
   "metadata": {},
   "outputs": [
    {
     "data": {
      "text/plain": [
       "[None, None, None, None, None, None]"
      ]
     },
     "execution_count": 18,
     "metadata": {},
     "output_type": "execute_result"
    },
    {
     "data": {
      "image/png": "[encoded data removed]",
      "text/plain": [
       "<Figure size 576x576 with 1 Axes>"
      ]
     },
     "metadata": {},
     "output_type": "display_data"
    }
   ],
   "source": [
    "plt.figure(figsize = (8, 8))\n",
    "ax = sns.boxplot(x = \"warning\", y = \"speed\", data = amis)\n",
    "plt.setp(ax.artists, alpha = 0.5, linewidth = 2, edgecolor = 'k')\n",
    "#plt.xticks(rotation = 45)"
   ]
  },
  {
   "cell_type": "code",
   "execution_count": 19,
   "metadata": {},
   "outputs": [
    {
     "data": {
      "text/plain": [
       "(array([0, 1, 2]), <a list of 3 Text xticklabel objects>)"
      ]
     },
     "execution_count": 19,
     "metadata": {},
     "output_type": "execute_result"
    },
    {
     "data": {
      "image/png": "[encoded data removed]",
      "text/plain": [
       "<Figure size 720x720 with 1 Axes>"
      ]
     },
     "metadata": {},
     "output_type": "display_data"
    }
   ],
   "source": [
    "plt.figure(figsize = (10, 10))\n",
    "ax = sns.boxplot(x = \"period\", y = \"speed\", data = amis)\n",
    "plt.setp(ax.artists, alpha = 0.5, linewidth = 2, edgecolor = 'k')\n",
    "plt.xticks(rotation = 90)"
   ]
  },
  {
   "cell_type": "code",
   "execution_count": 21,
   "metadata": {},
   "outputs": [
    {
     "data": {
      "text/html": [
       "<div>\n",
       "<style scoped>\n",
       "    .dataframe tbody tr th:only-of-type {\n",
       "        vertical-align: middle;\n",
       "    }\n",
       "\n",
       "    .dataframe tbody tr th {\n",
       "        vertical-align: top;\n",
       "    }\n",
       "\n",
       "    .dataframe thead th {\n",
       "        text-align: right;\n",
       "    }\n",
       "</style>\n",
       "<table border=\"1\" class=\"dataframe\">\n",
       "  <thead>\n",
       "    <tr style=\"text-align: right;\">\n",
       "      <th></th>\n",
       "      <th>speed</th>\n",
       "    </tr>\n",
       "    <tr>\n",
       "      <th>pair</th>\n",
       "      <th></th>\n",
       "    </tr>\n",
       "  </thead>\n",
       "  <tbody>\n",
       "    <tr>\n",
       "      <th>1</th>\n",
       "      <td>35.725000</td>\n",
       "    </tr>\n",
       "    <tr>\n",
       "      <th>2</th>\n",
       "      <td>36.313333</td>\n",
       "    </tr>\n",
       "    <tr>\n",
       "      <th>3</th>\n",
       "      <td>35.113903</td>\n",
       "    </tr>\n",
       "    <tr>\n",
       "      <th>4</th>\n",
       "      <td>36.410935</td>\n",
       "    </tr>\n",
       "    <tr>\n",
       "      <th>5</th>\n",
       "      <td>38.022298</td>\n",
       "    </tr>\n",
       "    <tr>\n",
       "      <th>6</th>\n",
       "      <td>38.943333</td>\n",
       "    </tr>\n",
       "    <tr>\n",
       "      <th>7</th>\n",
       "      <td>35.533333</td>\n",
       "    </tr>\n",
       "    <tr>\n",
       "      <th>8</th>\n",
       "      <td>38.955000</td>\n",
       "    </tr>\n",
       "    <tr>\n",
       "      <th>9</th>\n",
       "      <td>37.901667</td>\n",
       "    </tr>\n",
       "    <tr>\n",
       "      <th>10</th>\n",
       "      <td>35.389831</td>\n",
       "    </tr>\n",
       "    <tr>\n",
       "      <th>11</th>\n",
       "      <td>34.554286</td>\n",
       "    </tr>\n",
       "    <tr>\n",
       "      <th>12</th>\n",
       "      <td>40.330000</td>\n",
       "    </tr>\n",
       "    <tr>\n",
       "      <th>13</th>\n",
       "      <td>43.731667</td>\n",
       "    </tr>\n",
       "    <tr>\n",
       "      <th>14</th>\n",
       "      <td>43.033333</td>\n",
       "    </tr>\n",
       "  </tbody>\n",
       "</table>\n",
       "</div>"
      ],
      "text/plain": [
       "          speed\n",
       "pair           \n",
       "1     35.725000\n",
       "2     36.313333\n",
       "3     35.113903\n",
       "4     36.410935\n",
       "5     38.022298\n",
       "6     38.943333\n",
       "7     35.533333\n",
       "8     38.955000\n",
       "9     37.901667\n",
       "10    35.389831\n",
       "11    34.554286\n",
       "12    40.330000\n",
       "13    43.731667\n",
       "14    43.033333"
      ]
     },
     "execution_count": 21,
     "metadata": {},
     "output_type": "execute_result"
    }
   ],
   "source": [
    "amis.groupby(['pair']).agg({'speed' : \"mean\"})"
   ]
  },
  {
   "cell_type": "code",
   "execution_count": 41,
   "metadata": {},
   "outputs": [
    {
     "data": {
      "text/html": [
       "<div>\n",
       "<style scoped>\n",
       "    .dataframe tbody tr th:only-of-type {\n",
       "        vertical-align: middle;\n",
       "    }\n",
       "\n",
       "    .dataframe tbody tr th {\n",
       "        vertical-align: top;\n",
       "    }\n",
       "\n",
       "    .dataframe thead th {\n",
       "        text-align: right;\n",
       "    }\n",
       "</style>\n",
       "<table border=\"1\" class=\"dataframe\">\n",
       "  <thead>\n",
       "    <tr style=\"text-align: right;\">\n",
       "      <th></th>\n",
       "      <th>speed</th>\n",
       "    </tr>\n",
       "    <tr>\n",
       "      <th>warning</th>\n",
       "      <th></th>\n",
       "    </tr>\n",
       "  </thead>\n",
       "  <tbody>\n",
       "    <tr>\n",
       "      <th>1</th>\n",
       "      <td>36.637914</td>\n",
       "    </tr>\n",
       "    <tr>\n",
       "      <th>2</th>\n",
       "      <td>38.979181</td>\n",
       "    </tr>\n",
       "  </tbody>\n",
       "</table>\n",
       "</div>"
      ],
      "text/plain": [
       "             speed\n",
       "warning           \n",
       "1        36.637914\n",
       "2        38.979181"
      ]
     },
     "execution_count": 41,
     "metadata": {},
     "output_type": "execute_result"
    }
   ],
   "source": [
    "amis.groupby(['warning']).agg({'speed': \"mean\"})"
   ]
  },
  {
   "cell_type": "code",
   "execution_count": 22,
   "metadata": {},
   "outputs": [
    {
     "data": {
      "text/html": [
       "<div>\n",
       "<style scoped>\n",
       "    .dataframe tbody tr th:only-of-type {\n",
       "        vertical-align: middle;\n",
       "    }\n",
       "\n",
       "    .dataframe tbody tr th {\n",
       "        vertical-align: top;\n",
       "    }\n",
       "\n",
       "    .dataframe thead th {\n",
       "        text-align: right;\n",
       "    }\n",
       "</style>\n",
       "<table border=\"1\" class=\"dataframe\">\n",
       "  <thead>\n",
       "    <tr style=\"text-align: right;\">\n",
       "      <th></th>\n",
       "      <th>speed</th>\n",
       "    </tr>\n",
       "    <tr>\n",
       "      <th>period</th>\n",
       "      <th></th>\n",
       "    </tr>\n",
       "  </thead>\n",
       "  <tbody>\n",
       "    <tr>\n",
       "      <th>1</th>\n",
       "      <td>37.364286</td>\n",
       "    </tr>\n",
       "    <tr>\n",
       "      <th>2</th>\n",
       "      <td>37.460714</td>\n",
       "    </tr>\n",
       "    <tr>\n",
       "      <th>3</th>\n",
       "      <td>38.636940</td>\n",
       "    </tr>\n",
       "  </tbody>\n",
       "</table>\n",
       "</div>"
      ],
      "text/plain": [
       "            speed\n",
       "period           \n",
       "1       37.364286\n",
       "2       37.460714\n",
       "3       38.636940"
      ]
     },
     "execution_count": 22,
     "metadata": {},
     "output_type": "execute_result"
    }
   ],
   "source": [
    "amis.groupby(['period']).agg({'speed' : 'mean'})"
   ]
  },
  {
   "cell_type": "code",
   "execution_count": 23,
   "metadata": {},
   "outputs": [
    {
     "data": {
      "text/html": [
       "<table class=\"simpletable\">\n",
       "<caption>OLS Regression Results</caption>\n",
       "<tr>\n",
       "  <th>Dep. Variable:</th>          <td>speed</td>      <th>  R-squared:         </th> <td>   0.228</td> \n",
       "</tr>\n",
       "<tr>\n",
       "  <th>Model:</th>                   <td>OLS</td>       <th>  Adj. R-squared:    </th> <td>   0.227</td> \n",
       "</tr>\n",
       "<tr>\n",
       "  <th>Method:</th>             <td>Least Squares</td>  <th>  F-statistic:       </th> <td>   155.7</td> \n",
       "</tr>\n",
       "<tr>\n",
       "  <th>Date:</th>             <td>Thu, 02 Jul 2020</td> <th>  Prob (F-statistic):</th>  <td>  0.00</td>  \n",
       "</tr>\n",
       "<tr>\n",
       "  <th>Time:</th>                 <td>13:01:02</td>     <th>  Log-Likelihood:    </th> <td> -26680.</td> \n",
       "</tr>\n",
       "<tr>\n",
       "  <th>No. Observations:</th>      <td>  8437</td>      <th>  AIC:               </th> <td>5.339e+04</td>\n",
       "</tr>\n",
       "<tr>\n",
       "  <th>Df Residuals:</th>          <td>  8420</td>      <th>  BIC:               </th> <td>5.351e+04</td>\n",
       "</tr>\n",
       "<tr>\n",
       "  <th>Df Model:</th>              <td>    16</td>      <th>                     </th>     <td> </td>    \n",
       "</tr>\n",
       "<tr>\n",
       "  <th>Covariance Type:</th>      <td>nonrobust</td>    <th>                     </th>     <td> </td>    \n",
       "</tr>\n",
       "</table>\n",
       "<table class=\"simpletable\">\n",
       "<tr>\n",
       "        <td></td>          <th>coef</th>     <th>std err</th>      <th>t</th>      <th>P>|t|</th>  <th>[0.025</th>    <th>0.975]</th>  \n",
       "</tr>\n",
       "<tr>\n",
       "  <th>Intercept</th>    <td>   34.0519</td> <td>    0.257</td> <td>  132.397</td> <td> 0.000</td> <td>   33.548</td> <td>   34.556</td>\n",
       "</tr>\n",
       "<tr>\n",
       "  <th>pair[T.2]</th>    <td>    0.5883</td> <td>    0.330</td> <td>    1.781</td> <td> 0.075</td> <td>   -0.059</td> <td>    1.236</td>\n",
       "</tr>\n",
       "<tr>\n",
       "  <th>pair[T.3]</th>    <td>   -0.6128</td> <td>    0.331</td> <td>   -1.853</td> <td> 0.064</td> <td>   -1.261</td> <td>    0.036</td>\n",
       "</tr>\n",
       "<tr>\n",
       "  <th>pair[T.4]</th>    <td>    0.7291</td> <td>    0.335</td> <td>    2.175</td> <td> 0.030</td> <td>    0.072</td> <td>    1.386</td>\n",
       "</tr>\n",
       "<tr>\n",
       "  <th>pair[T.5]</th>    <td>    2.2871</td> <td>    0.333</td> <td>    6.873</td> <td> 0.000</td> <td>    1.635</td> <td>    2.939</td>\n",
       "</tr>\n",
       "<tr>\n",
       "  <th>pair[T.6]</th>    <td>    3.2183</td> <td>    0.330</td> <td>    9.742</td> <td> 0.000</td> <td>    2.571</td> <td>    3.866</td>\n",
       "</tr>\n",
       "<tr>\n",
       "  <th>pair[T.7]</th>    <td>   -0.1917</td> <td>    0.330</td> <td>   -0.580</td> <td> 0.562</td> <td>   -0.839</td> <td>    0.456</td>\n",
       "</tr>\n",
       "<tr>\n",
       "  <th>pair[T.8]</th>    <td>    3.2300</td> <td>    0.330</td> <td>    9.777</td> <td> 0.000</td> <td>    2.582</td> <td>    3.878</td>\n",
       "</tr>\n",
       "<tr>\n",
       "  <th>pair[T.9]</th>    <td>    2.1767</td> <td>    0.330</td> <td>    6.589</td> <td> 0.000</td> <td>    1.529</td> <td>    2.824</td>\n",
       "</tr>\n",
       "<tr>\n",
       "  <th>pair[T.10]</th>   <td>   -0.3004</td> <td>    0.332</td> <td>   -0.906</td> <td> 0.365</td> <td>   -0.951</td> <td>    0.350</td>\n",
       "</tr>\n",
       "<tr>\n",
       "  <th>pair[T.11]</th>   <td>   -1.4636</td> <td>    0.319</td> <td>   -4.592</td> <td> 0.000</td> <td>   -2.088</td> <td>   -0.839</td>\n",
       "</tr>\n",
       "<tr>\n",
       "  <th>pair[T.12]</th>   <td>    4.6050</td> <td>    0.330</td> <td>   13.940</td> <td> 0.000</td> <td>    3.957</td> <td>    5.253</td>\n",
       "</tr>\n",
       "<tr>\n",
       "  <th>pair[T.13]</th>   <td>    8.0067</td> <td>    0.330</td> <td>   24.237</td> <td> 0.000</td> <td>    7.359</td> <td>    8.654</td>\n",
       "</tr>\n",
       "<tr>\n",
       "  <th>pair[T.14]</th>   <td>    7.3083</td> <td>    0.330</td> <td>   22.123</td> <td> 0.000</td> <td>    6.661</td> <td>    7.956</td>\n",
       "</tr>\n",
       "<tr>\n",
       "  <th>warning[T.2]</th> <td>    2.3990</td> <td>    0.125</td> <td>   19.236</td> <td> 0.000</td> <td>    2.154</td> <td>    2.643</td>\n",
       "</tr>\n",
       "<tr>\n",
       "  <th>period[T.2]</th>  <td>    0.0964</td> <td>    0.153</td> <td>    0.631</td> <td> 0.528</td> <td>   -0.203</td> <td>    0.396</td>\n",
       "</tr>\n",
       "<tr>\n",
       "  <th>period[T.3]</th>  <td>    1.3245</td> <td>    0.153</td> <td>    8.676</td> <td> 0.000</td> <td>    1.025</td> <td>    1.624</td>\n",
       "</tr>\n",
       "</table>\n",
       "<table class=\"simpletable\">\n",
       "<tr>\n",
       "  <th>Omnibus:</th>       <td>257.354</td> <th>  Durbin-Watson:     </th> <td>   0.680</td>\n",
       "</tr>\n",
       "<tr>\n",
       "  <th>Prob(Omnibus):</th> <td> 0.000</td>  <th>  Jarque-Bera (JB):  </th> <td> 282.337</td>\n",
       "</tr>\n",
       "<tr>\n",
       "  <th>Skew:</th>          <td> 0.429</td>  <th>  Prob(JB):          </th> <td>4.91e-62</td>\n",
       "</tr>\n",
       "<tr>\n",
       "  <th>Kurtosis:</th>      <td> 3.260</td>  <th>  Cond. No.          </th> <td>    18.4</td>\n",
       "</tr>\n",
       "</table><br/><br/>Warnings:<br/>[1] Standard Errors assume that the covariance matrix of the errors is correctly specified."
      ],
      "text/plain": [
       "<class 'statsmodels.iolib.summary.Summary'>\n",
       "\"\"\"\n",
       "                            OLS Regression Results                            \n",
       "==============================================================================\n",
       "Dep. Variable:                  speed   R-squared:                       0.228\n",
       "Model:                            OLS   Adj. R-squared:                  0.227\n",
       "Method:                 Least Squares   F-statistic:                     155.7\n",
       "Date:                Thu, 02 Jul 2020   Prob (F-statistic):               0.00\n",
       "Time:                        13:01:02   Log-Likelihood:                -26680.\n",
       "No. Observations:                8437   AIC:                         5.339e+04\n",
       "Df Residuals:                    8420   BIC:                         5.351e+04\n",
       "Df Model:                          16                                         \n",
       "Covariance Type:            nonrobust                                         \n",
       "================================================================================\n",
       "                   coef    std err          t      P>|t|      [0.025      0.975]\n",
       "--------------------------------------------------------------------------------\n",
       "Intercept       34.0519      0.257    132.397      0.000      33.548      34.556\n",
       "pair[T.2]        0.5883      0.330      1.781      0.075      -0.059       1.236\n",
       "pair[T.3]       -0.6128      0.331     -1.853      0.064      -1.261       0.036\n",
       "pair[T.4]        0.7291      0.335      2.175      0.030       0.072       1.386\n",
       "pair[T.5]        2.2871      0.333      6.873      0.000       1.635       2.939\n",
       "pair[T.6]        3.2183      0.330      9.742      0.000       2.571       3.866\n",
       "pair[T.7]       -0.1917      0.330     -0.580      0.562      -0.839       0.456\n",
       "pair[T.8]        3.2300      0.330      9.777      0.000       2.582       3.878\n",
       "pair[T.9]        2.1767      0.330      6.589      0.000       1.529       2.824\n",
       "pair[T.10]      -0.3004      0.332     -0.906      0.365      -0.951       0.350\n",
       "pair[T.11]      -1.4636      0.319     -4.592      0.000      -2.088      -0.839\n",
       "pair[T.12]       4.6050      0.330     13.940      0.000       3.957       5.253\n",
       "pair[T.13]       8.0067      0.330     24.237      0.000       7.359       8.654\n",
       "pair[T.14]       7.3083      0.330     22.123      0.000       6.661       7.956\n",
       "warning[T.2]     2.3990      0.125     19.236      0.000       2.154       2.643\n",
       "period[T.2]      0.0964      0.153      0.631      0.528      -0.203       0.396\n",
       "period[T.3]      1.3245      0.153      8.676      0.000       1.025       1.624\n",
       "==============================================================================\n",
       "Omnibus:                      257.354   Durbin-Watson:                   0.680\n",
       "Prob(Omnibus):                  0.000   Jarque-Bera (JB):              282.337\n",
       "Skew:                           0.429   Prob(JB):                     4.91e-62\n",
       "Kurtosis:                       3.260   Cond. No.                         18.4\n",
       "==============================================================================\n",
       "\n",
       "Warnings:\n",
       "[1] Standard Errors assume that the covariance matrix of the errors is correctly specified.\n",
       "\"\"\""
      ]
     },
     "execution_count": 23,
     "metadata": {},
     "output_type": "execute_result"
    }
   ],
   "source": [
    "##Fit a linear model\n",
    "import statsmodels.api as sm\n",
    "\n",
    "model = sm.OLS.from_formula(\"speed ~ pair + warning + period\", data = amis)\n",
    "result = model.fit()\n",
    "result.summary()"
   ]
  },
  {
   "cell_type": "code",
   "execution_count": 24,
   "metadata": {},
   "outputs": [
    {
     "data": {
      "image/png": "[encoded data removed]",
      "text/plain": [
       "<Figure size 576x576 with 1 Axes>"
      ]
     },
     "metadata": {},
     "output_type": "display_data"
    }
   ],
   "source": [
    "plt.figure(figsize = (8,8))\n",
    "model_plot = sns.scatterplot(result.fittedvalues, result.resid)\n",
    "model_plot.set_xlabel(\"Fitted Values\")\n",
    "_ = model_plot.set_ylabel(\"Residuals\")"
   ]
  },
  {
   "cell_type": "code",
   "execution_count": 28,
   "metadata": {},
   "outputs": [],
   "source": [
    "##Carry out a Hypothesis test of difference in means\n",
    "\n",
    "with_warning = amis[amis[\"warning\"] == 1]\n",
    "without_warning = amis[amis[\"warning\"] == 2]"
   ]
  },
  {
   "cell_type": "code",
   "execution_count": 29,
   "metadata": {},
   "outputs": [
    {
     "name": "stdout",
     "output_type": "stream",
     "text": [
      "4162 36.6379144641999 6.195395199411602\n"
     ]
    }
   ],
   "source": [
    "n1 = len(with_warning)\n",
    "mu1 = with_warning[\"speed\"].mean()\n",
    "sd1 = with_warning[\"speed\"].std()\n",
    "\n",
    "print(n1, mu1, sd1)"
   ]
  },
  {
   "cell_type": "code",
   "execution_count": 31,
   "metadata": {},
   "outputs": [
    {
     "name": "stdout",
     "output_type": "stream",
     "text": [
      "4275 38.97918128654971 6.596484279622776\n"
     ]
    }
   ],
   "source": [
    "n2 = len(without_warning)\n",
    "mu2 = without_warning[\"speed\"].mean()\n",
    "sd2 = without_warning[\"speed\"].std()\n",
    "\n",
    "print(n2, mu2, sd2)"
   ]
  },
  {
   "cell_type": "code",
   "execution_count": 34,
   "metadata": {},
   "outputs": [
    {
     "data": {
      "text/plain": [
       "(-16.79484774566411, 2.661866521055598e-63)"
      ]
     },
     "execution_count": 34,
     "metadata": {},
     "output_type": "execute_result"
    }
   ],
   "source": [
    "\n",
    "sm.stats.ztest(with_warning[\"speed\"], without_warning[\"speed\"])"
   ]
  },
  {
   "cell_type": "markdown",
   "metadata": {},
   "source": [
    "### With an extremely small p-value of 2.6619e-63, we reject the null hypothesis that there has not been any significant change in speed with relation to location of warning signs ###"
   ]
  },
  {
   "cell_type": "code",
   "execution_count": null,
   "metadata": {},
   "outputs": [],
   "source": []
  }
 ],
 "metadata": {
  "kernelspec": {
   "display_name": "Python 3",
   "language": "python",
   "name": "python3"
  },
  "language_info": {
   "codemirror_mode": {
    "name": "ipython",
    "version": 3
   },
   "file_extension": ".py",
   "mimetype": "text/x-python",
   "name": "python",
   "nbconvert_exporter": "python",
   "pygments_lexer": "ipython3",
   "version": "3.7.3"
  }
 },
 "nbformat": 4,
 "nbformat_minor": 4
}
